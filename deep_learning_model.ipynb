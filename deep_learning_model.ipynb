{
 "cells": [
  {
   "cell_type": "markdown",
   "metadata": {
    "colab_type": "text",
    "id": "-mWLpB1R6L5J"
   },
   "source": [
    "# Deep Learning model for Fashion item recognition"
   ]
  },
  {
   "cell_type": "markdown",
   "metadata": {
    "colab_type": "text",
    "id": "RjIg9c8uQd-z"
   },
   "source": [
    "* Classification of Fashion-MNIST dataset with tensorflow.keras, using a Convolutional Neural Network (CNN) architecture.\n",
    "\n",
    "* The dataset contains 70,000 grayscale images in 10 categories.\n",
    "Label Description:\n",
    "\n",
    "``\n",
    "0 T-shirt/top \n",
    "1 Trouser \n",
    "2 Pullover \n",
    "3 Dress \n",
    "4 Coat \n",
    "5 Sandal \n",
    "6 Shirt \n",
    "7 Sneaker \n",
    "8 Bag \n",
    "9 Ankle boot``\n",
    "\n",
    "* The images show individual articles of clothing at low resolution (28 by 28 pixels)."
   ]
  },
  {
   "cell_type": "markdown",
   "metadata": {
    "colab_type": "text",
    "id": "RP1v4b2l6L5P"
   },
   "source": [
    "### Imports"
   ]
  },
  {
   "cell_type": "code",
   "execution_count": 0,
   "metadata": {
    "colab": {},
    "colab_type": "code",
    "id": "xX-aKKIKLWAT"
   },
   "outputs": [],
   "source": [
    "\n",
    "from keras import backend as K # Importing Keras backend (by default it is Tensorflow)\n",
    "from keras.datasets import fashion_mnist # Import the mnist dataset\n",
    "from keras.layers import Input, Conv2D, Dense, Dropout, Flatten, MaxPool2D,BatchNormalization # Layers to be used for building our model\n",
    "from keras.models import Model # The class used to create a model\n",
    "from keras.optimizers import Adam\n",
    "from keras.callbacks import EarlyStopping, ModelCheckpoint\n",
    "from keras.utils import np_utils # Utilities to manipulate numpy arrays\n",
    "from tensorflow import set_random_seed # Used for reproducible experiments\n",
    "from sklearn.metrics import confusion_matrix,classification_report\n",
    "from keras import regularizers\n",
    "from keras.preprocessing.image import ImageDataGenerator # for data augmentetion\n",
    "\n",
    "from IPython.display import SVG\n",
    "from keras.utils.vis_utils import model_to_dot\n",
    "\n",
    "import gc\n",
    "import matplotlib.pyplot as plt\n",
    "import numpy as np\n",
    "%matplotlib inline"
   ]
  },
  {
   "cell_type": "markdown",
   "metadata": {
    "colab_type": "text",
    "id": "YPXP8r-TRedf"
   },
   "source": [
    "* 60,000 images to train the network and 10,000 images to test it.\n",
    "* The shape of each image is 28x28 pixels x1 channel (grey).\n",
    "* **Data Normalization**: The values of the inputs are in [0, 255] so we normalize them to [0, 1] dividing by 255."
   ]
  },
  {
   "cell_type": "code",
   "execution_count": 0,
   "metadata": {
    "colab": {},
    "colab_type": "code",
    "id": "O75oVVFrLm7t"
   },
   "outputs": [],
   "source": [
    "batch_size = 128\n",
    "classes = 10\n",
    "epochs = 60\n",
    "\n",
    "(X_train, y_train), (X_test, y_test) = fashion_mnist.load_data()\n",
    "\n",
    "# Reshape data for Conv2D\n",
    "X_train = X_train.reshape(X_train.shape[0], 28, 28, 1)\n",
    "X_test = X_test.reshape(X_test.shape[0], 28, 28, 1)\n",
    "input_shape = (28, 28, 1)\n",
    "X_train = X_train.astype('float32')\n",
    "X_test = X_test.astype('float32')\n",
    "# Data Normalization\n",
    "X_train /= 255\n",
    "X_test /= 255\n",
    "Y_train = np_utils.to_categorical(y_train, classes)\n",
    "Y_test = np_utils.to_categorical(y_test, classes)"
   ]
  },
  {
   "cell_type": "code",
   "execution_count": 0,
   "metadata": {
    "colab": {},
    "colab_type": "code",
    "id": "JrQxXZc-LwJU"
   },
   "outputs": [],
   "source": [
    "# function to plot results\n",
    "def plot_history(hs, epochs, metric):\n",
    "    plt.clf()\n",
    "    plt.rcParams['figure.figsize'] = [10, 5]\n",
    "    plt.rcParams['font.size'] = 16\n",
    "    for label in hs:\n",
    "        plt.plot(hs[label].history[metric], label='{0:s} train {1:s}'.format(label, metric))\n",
    "        plt.plot(hs[label].history['val_{0:s}'.format(metric)], label='{0:s} validation {1:s}'.format(label, metric))\n",
    "    x_ticks = np.arange(0, epochs + 1, epochs / 10)\n",
    "    x_ticks [0] += 1\n",
    "    plt.xticks(x_ticks)\n",
    "    plt.ylim((0, 1))\n",
    "    plt.xlabel('Epochs')\n",
    "    plt.ylabel('Loss' if metric=='loss' else 'Accuracy')\n",
    "    plt.legend()\n",
    "    plt.show()"
   ]
  },
  {
   "cell_type": "code",
   "execution_count": 0,
   "metadata": {
    "colab": {},
    "colab_type": "code",
    "id": "xQdFoPfXLxQC"
   },
   "outputs": [],
   "source": [
    "def clean_up(model):\n",
    "    K.clear_session()\n",
    "    del model\n",
    "    gc.collect()"
   ]
  },
  {
   "cell_type": "markdown",
   "metadata": {
    "colab_type": "text",
    "id": "7e6jjSXOGIoL"
   },
   "source": [
    "### Data augmentetion\n",
    "\n",
    "Data augmentation is often used in order to improve generalisation properties. Typically, horizontal ﬂipping,zooming shifts are used. However, in this case data augmentation did not improved the classifier's results. Bellow are the the  data augmentation settings that tried out."
   ]
  },
  {
   "cell_type": "code",
   "execution_count": 58,
   "metadata": {
    "colab": {
     "base_uri": "https://localhost:8080/",
     "height": 111
    },
    "colab_type": "code",
    "id": "hUTRVX8dGJfB",
    "outputId": "4cc204ae-acac-418d-e6ee-3ae757737a1a"
   },
   "outputs": [
    {
     "name": "stderr",
     "output_type": "stream",
     "text": [
      "/usr/local/lib/python3.6/dist-packages/keras_preprocessing/image/image_data_generator.py:334: UserWarning: This ImageDataGenerator specifies `zca_whitening`, which overrides setting of `featurewise_center`.\n",
      "  warnings.warn('This ImageDataGenerator specifies '\n"
     ]
    }
   ],
   "source": [
    "image_generator = ImageDataGenerator(\n",
    "      rotation_range=10,\n",
    "      zoom_range = 0.1, \n",
    "      width_shift_range=0.05,\n",
    "      height_shift_range=0.05,\n",
    "      horizontal_flip=False,\n",
    "      vertical_flip=False, \n",
    "      data_format=\"channels_last\",\n",
    "      zca_whitening=True\n",
    "  )\n",
    "# fit data for zca whitening\n",
    "image_generator.fit(X_train, augment=True)\n",
    "\n",
    "augment_size=5000\n",
    "# get transformed images\n",
    "randidx = np.random.randint(X_train.shape[0], size=augment_size)\n",
    "x_augmented = X_train[randidx].copy()\n",
    "y_augmented = Y_train[randidx].copy()\n",
    "x_augmented = image_generator.flow(x_augmented, np.zeros(augment_size),\n",
    "                                     batch_size=augment_size, shuffle=False).next()[0]\n",
    "# append augmented data to trainset\n",
    "X_train2 = np.concatenate((X_train, x_augmented))\n",
    "Y_train2 = np.concatenate((Y_train, y_augmented))"
   ]
  },
  {
   "cell_type": "markdown",
   "metadata": {
    "colab_type": "text",
    "id": "ylAgSf3tXcfH"
   },
   "source": [
    "### The Model \n",
    "\n",
    "- We use a Functional Model with following layers:\n",
    "    \n",
    "- `Input` layer \n",
    "- ` 2D Convolution layer` with 16 filters and [5x5] kernel size.\n",
    "    - `Batch Normalization`\n",
    "    - `Max Pooling`\n",
    "    - `Dropout` 25%\n",
    "- ` 2D Convolution layer` with 32 filters and [5x5] kernel size.\n",
    "    - `Batch Normalization`\n",
    "    - `Max Pooling`\n",
    "    - `Dropout` 25%\n",
    "- Then, `Flatten` the convolved images so as to input them to a Dense Layer.\n",
    "- `Dense Layer` hidden layer with output 1024 nodes.\n",
    "    - `Dropout` 25%\n",
    "- `Output Layer`.\n",
    "\n",
    "To compile the model:\n",
    "- As optimazer we use `Adam`.\n",
    "- As loss function we use `categorical_crossentropy` because the targets are categorical one-hot encoded.\n",
    "\n",
    "To evaluate the model:\n",
    "- Accuracy on both validation and test set is used.\n",
    "\n",
    "\n",
    "**In order to find the above model the following strategy is used:**\n",
    "1. As mentioned above, data augmentetion worsen the classifier's performance; thus, only the original data is used. In case of less data, data augmentetion would be useful.\n",
    "2. I choose to build a model with `CNNs` because they outerperform the other NN at image classification tasks. Additionally, I built a MLP model with 2 hidden layers, which had 3% less accuracy compared to the CNN model.\n",
    "    \n",
    "    - The proper number of CNN layers is defined to two after several trials. In fact, more layers cause overfitting.\n",
    "    \n",
    "    - At detector stage of convolutional layers `ReLU` is used as activiation function. Other activiation functions such as ELU was also used but with no better results than Relu.\n",
    "   \n",
    "    - At polling stage of convolutional layers `max pooling` was choosen with striding [2,2]. Without striding the model had slightly better accuracy, but way more parameters need to be trained. \n",
    "   \n",
    "    - Each convolution layer has different number of `filters`. In this way, the network will learn more details about the unique characteristics of each class. These, values was defined after trials.\n",
    "    \n",
    "    - The `kernel size` was set to [5,5] .\n",
    "    \n",
    "    - The `dilation rate` found to not improve model's accuracy. Thus, it was set to [1,1].\n",
    "    \n",
    "    - `Striding` was set to [1,1], since the input size of images is already small we do not want to loose any information.\n",
    "    \n",
    "    - `Dropout` was set to [0.25], helping the model to avoid overfitting and train faster.\n",
    "    \n",
    "    - `Batch normalization` between convolution(linear) and detector stage(non-linear) acts as regularizer, allowing higher learning rates. In this case, Batch normalization helped the model to be trained in fewer epochs and the model had slightly better accuracy. Thus, we used this normalization strategy.\n",
    "    - `Kernel regularization` was tested without better results on model's accuracy.\n",
    "\n",
    "3. After the convolutional layers an `MLP` with one hidden layer is used to do the classification job, as MLPs are powerful classifiers.\n",
    "      \n",
    "     - `ReLU` used as activiation function.\n",
    "     - `Dropout` [0.25] was used again at this stage.\n",
    "\n",
    "4.  As output activiation function we use `softmax`, which is the suggested output activiation function for multi-label classification problems.\n",
    "5. `EarlyStopping` is used in order to find the proper number of epochs which reduces the generalization error.\n",
    "\n"
   ]
  },
  {
   "cell_type": "code",
   "execution_count": 0,
   "metadata": {
    "colab": {},
    "colab_type": "code",
    "id": "a1fg2q0_L6eI"
   },
   "outputs": [],
   "source": [
    "def train_model(\n",
    "        optimizer,\n",
    "        epochs=100,\n",
    "        batch_size=128,\n",
    "        conv_layers=2,\n",
    "        conv_activation='relu',\n",
    "        hidden_layers=1,\n",
    "        hidden_activation='relu',\n",
    "        batch_normalization = False,\n",
    "        conv_dropout=False,\n",
    "        output_activation='softmax'):\n",
    "    \n",
    "    np.random.seed(1402) # Define the seed for numpy to have reproducible experiments.\n",
    "    set_random_seed(1981) # Define the seed for Tensorflow to have reproducible experiments.\n",
    "    model_name = 'gru-{0:d}-{1:d}'.format(conv_layers, epochs)\n",
    "    \n",
    "    # Define the input layer.\n",
    "    input = Input(\n",
    "        shape=input_shape,\n",
    "        name='Input'\n",
    "    )\n",
    "\n",
    "    x = input\n",
    "    \n",
    "    \n",
    "    # Define the convolutional layers.\n",
    "    for i in range(conv_layers):\n",
    "        x = Conv2D(\n",
    "            filters=16*(i+1),\n",
    "            kernel_size=(5, 5),\n",
    "            strides=(1, 1),\n",
    "            padding='same',\n",
    "            dilation_rate=(1, 1),\n",
    "            activation=conv_activation,\n",
    "            #kernel_regularizer=regularizers.l2(0.01),\n",
    "            name='Conv2D-{0:d}'.format(i + 1)\n",
    "        )(x)\n",
    "    \n",
    "  \n",
    "        \n",
    "        if batch_normalization:\n",
    "            x = BatchNormalization(axis=2,name='Batch_Normalization-{0:d}'.format(i + 1)\n",
    "                                )(x)\n",
    "        \n",
    "        x = MaxPool2D(\n",
    "            pool_size=(2, 2),\n",
    "            strides=(2, 2),\n",
    "            padding='same',\n",
    "            name='MaxPool2D-{0:d}'.format(i + 1)\n",
    "        )(x)\n",
    "        \n",
    "        if conv_dropout:\n",
    "            x = Dropout(\n",
    "                rate=0.25,\n",
    "                name='Dropout-{0:d}'.format(i + 1)\n",
    "            )(x)\n",
    "\n",
    "    \n",
    "    # Flatten the convolved images so as to input them to a Dense Layer\n",
    "    x = Flatten(name='Flatten')(x)\n",
    "    \n",
    "  \n",
    "    # Define the remaining hidden layers.\n",
    "    for i in range(hidden_layers):\n",
    "        x = Dense(\n",
    "            units=256,\n",
    "            kernel_initializer='glorot_uniform',\n",
    "            activation=hidden_activation,\n",
    "            name='Hidden-{0:d}'.format(i + 1)\n",
    "        )(x)\n",
    "        \n",
    "    if conv_dropout:\n",
    "            x = Dropout(\n",
    "                rate=0.25,\n",
    "                name='Dropout-{0:d}'.format(3)\n",
    "            )(x)\n",
    "        \n",
    "    # Define the output layer.\n",
    "    output = Dense(\n",
    "        units=classes,\n",
    "        activation=output_activation,\n",
    "        name='Output'\n",
    "    )(x)\n",
    "\n",
    "    # Define the model and train it.\n",
    "    model = Model(inputs=input, outputs=output)\n",
    "    model.compile(optimizer=optimizer, loss='categorical_crossentropy', metrics=['accuracy'])\n",
    "    hs = model.fit(\n",
    "        x=X_train,\n",
    "        y=Y_train,\n",
    "        validation_split=0.1, # use 10% of the training data as validation data\n",
    "        epochs=epochs,\n",
    "        verbose=0,\n",
    "        batch_size=batch_size,\n",
    "        callbacks=[EarlyStopping(monitor='val_acc', patience=5, verbose=1),\n",
    "                   ModelCheckpoint(filepath='{0:s}.chk'.format(model_name),\n",
    "                                   monitor='val_acc',\n",
    "                                   save_best_only=True,\n",
    "                                   save_weights_only=True\n",
    "                                  )\n",
    "                  ]\n",
    "    )\n",
    "    print('Finished training.')\n",
    "    print('------------------')\n",
    "    model.summary() # Print a description of the model.\n",
    "    return model, hs"
   ]
  },
  {
   "cell_type": "markdown",
   "metadata": {
    "colab_type": "text",
    "id": "zsAcwu0w6L53"
   },
   "source": [
    "### Training and Evaluation"
   ]
  },
  {
   "cell_type": "code",
   "execution_count": 102,
   "metadata": {
    "colab": {
     "base_uri": "https://localhost:8080/",
     "height": 646
    },
    "colab_type": "code",
    "id": "24rwYVToNW2o",
    "outputId": "24b6fb41-c93e-4fbe-8f64-f18cf13a2980"
   },
   "outputs": [
    {
     "name": "stdout",
     "output_type": "stream",
     "text": [
      "Epoch 00028: early stopping\n",
      "Finished training.\n",
      "------------------\n",
      "_________________________________________________________________\n",
      "Layer (type)                 Output Shape              Param #   \n",
      "=================================================================\n",
      "Input (InputLayer)           (None, 28, 28, 1)         0         \n",
      "_________________________________________________________________\n",
      "Conv2D-1 (Conv2D)            (None, 28, 28, 16)        416       \n",
      "_________________________________________________________________\n",
      "Batch_Normalization-1 (Batch (None, 28, 28, 16)        112       \n",
      "_________________________________________________________________\n",
      "MaxPool2D-1 (MaxPooling2D)   (None, 14, 14, 16)        0         \n",
      "_________________________________________________________________\n",
      "Dropout-1 (Dropout)          (None, 14, 14, 16)        0         \n",
      "_________________________________________________________________\n",
      "Conv2D-2 (Conv2D)            (None, 14, 14, 32)        12832     \n",
      "_________________________________________________________________\n",
      "Batch_Normalization-2 (Batch (None, 14, 14, 32)        56        \n",
      "_________________________________________________________________\n",
      "MaxPool2D-2 (MaxPooling2D)   (None, 7, 7, 32)          0         \n",
      "_________________________________________________________________\n",
      "Dropout-2 (Dropout)          (None, 7, 7, 32)          0         \n",
      "_________________________________________________________________\n",
      "Flatten (Flatten)            (None, 1568)              0         \n",
      "_________________________________________________________________\n",
      "Hidden-1 (Dense)             (None, 256)               401664    \n",
      "_________________________________________________________________\n",
      "Dropout-3 (Dropout)          (None, 256)               0         \n",
      "_________________________________________________________________\n",
      "Output (Dense)               (None, 10)                2570      \n",
      "=================================================================\n",
      "Total params: 417,650\n",
      "Trainable params: 417,566\n",
      "Non-trainable params: 84\n",
      "_________________________________________________________________\n",
      "10000/10000 [==============================] - 1s 94us/step\n"
     ]
    }
   ],
   "source": [
    "# Using Adam\n",
    "optimizer = Adam()\n",
    "\n",
    "# 2 Convolutional Layers and 1 dense Layer\n",
    "model, hs = train_model(\n",
    "    optimizer=optimizer,\n",
    "    epochs=50,\n",
    "    batch_size=batch_size,\n",
    "    conv_layers=2, \n",
    "    conv_activation='relu',\n",
    "    batch_normalization=True,\n",
    "    conv_dropout=True,\n",
    "    hidden_layers=1,\n",
    "    output_activation='softmax'\n",
    ")\n",
    "\n",
    "# Evaluate on test data and show all the results.\n",
    "eval_model = model.evaluate(X_test, Y_test, verbose=1)\n",
    "# Predictions on test set\n",
    "predictions = model.predict(X_test)\n",
    "\n",
    "clean_up(model=model)"
   ]
  },
  {
   "cell_type": "code",
   "execution_count": 103,
   "metadata": {
    "colab": {
     "base_uri": "https://localhost:8080/",
     "height": 778
    },
    "colab_type": "code",
    "id": "x8VtEUu7NgMv",
    "outputId": "8c8a3603-2532-447d-fd38-e4a3f200584f"
   },
   "outputs": [
    {
     "name": "stdout",
     "output_type": "stream",
     "text": [
      "Train Loss     : 0.12679\n",
      "Validation Loss: 0.22890\n",
      "Test Loss      : 0.25530\n",
      "---\n",
      "Train Accuracy     : 0.95113\n",
      "Validation Accuracy: 0.92467\n",
      "Test Accuracy      : 0.92580\n"
     ]
    },
    {
     "data": {
      "image/png": "[encoded data removed]",
      "text/plain": [
       "<Figure size 720x360 with 1 Axes>"
      ]
     },
     "metadata": {
      "tags": []
     },
     "output_type": "display_data"
    },
    {
     "data": {
      "image/png": "[encoded data removed]",
      "text/plain": [
       "<Figure size 720x360 with 1 Axes>"
      ]
     },
     "metadata": {
      "tags": []
     },
     "output_type": "display_data"
    }
   ],
   "source": [
    "print(\"Train Loss     : {0:.5f}\".format(hs.history['loss'][-1]))\n",
    "print(\"Validation Loss: {0:.5f}\".format(hs.history['val_loss'][-1]))\n",
    "print(\"Test Loss      : {0:.5f}\".format(eval_model[0]))\n",
    "print(\"---\")\n",
    "print(\"Train Accuracy     : {0:.5f}\".format(hs.history['acc'][-1]))\n",
    "print(\"Validation Accuracy: {0:.5f}\".format(hs.history['val_acc'][-1]))\n",
    "print(\"Test Accuracy      : {0:.5f}\".format(eval_model[1]))\n",
    "\n",
    "\n",
    "# Plot train and validation error per epoch.\n",
    "plot_history(hs={'Model': hs}, epochs=40, metric='loss')\n",
    "plot_history(hs={'Model': hs}, epochs=40, metric='acc')"
   ]
  },
  {
   "cell_type": "code",
   "execution_count": 104,
   "metadata": {
    "colab": {
     "base_uri": "https://localhost:8080/",
     "height": 1422
    },
    "colab_type": "code",
    "id": "Dhb6_VGSkJVq",
    "outputId": "5b46ecb7-4d51-4e7f-dd59-7c9acfa9c826"
   },
   "outputs": [
    {
     "data": {
      "image/svg+xml": [
       "<svg height=\"1051pt\" viewBox=\"0.00 0.00 464.00 1051.00\" width=\"464pt\" xmlns=\"http://www.w3.org/2000/svg\" xmlns:xlink=\"http://www.w3.org/1999/xlink\">\n",
       "<g class=\"graph\" id=\"graph0\" transform=\"scale(1 1) rotate(0) translate(4 1047)\">\n",
       "<title>G</title>\n",
       "<polygon fill=\"#ffffff\" points=\"-4,4 -4,-1047 460,-1047 460,4 -4,4\" stroke=\"transparent\"/>\n",
       "<!-- 140065779860872 -->\n",
       "<g class=\"node\" id=\"node1\">\n",
       "<title>140065779860872</title>\n",
       "<polygon fill=\"none\" points=\"81,-996.5 81,-1042.5 375,-1042.5 375,-996.5 81,-996.5\" stroke=\"#000000\"/>\n",
       "<text fill=\"#000000\" font-family=\"Times,serif\" font-size=\"14.00\" text-anchor=\"middle\" x=\"140.5\" y=\"-1015.8\">Input: InputLayer</text>\n",
       "<polyline fill=\"none\" points=\"200,-996.5 200,-1042.5 \" stroke=\"#000000\"/>\n",
       "<text fill=\"#000000\" font-family=\"Times,serif\" font-size=\"14.00\" text-anchor=\"middle\" x=\"229\" y=\"-1027.3\">input:</text>\n",
       "<polyline fill=\"none\" points=\"200,-1019.5 258,-1019.5 \" stroke=\"#000000\"/>\n",
       "<text fill=\"#000000\" font-family=\"Times,serif\" font-size=\"14.00\" text-anchor=\"middle\" x=\"229\" y=\"-1004.3\">output:</text>\n",
       "<polyline fill=\"none\" points=\"258,-996.5 258,-1042.5 \" stroke=\"#000000\"/>\n",
       "<text fill=\"#000000\" font-family=\"Times,serif\" font-size=\"14.00\" text-anchor=\"middle\" x=\"316.5\" y=\"-1027.3\">(None, 28, 28, 1)</text>\n",
       "<polyline fill=\"none\" points=\"258,-1019.5 375,-1019.5 \" stroke=\"#000000\"/>\n",
       "<text fill=\"#000000\" font-family=\"Times,serif\" font-size=\"14.00\" text-anchor=\"middle\" x=\"316.5\" y=\"-1004.3\">(None, 28, 28, 1)</text>\n",
       "</g>\n",
       "<!-- 140065779862496 -->\n",
       "<g class=\"node\" id=\"node2\">\n",
       "<title>140065779862496</title>\n",
       "<polygon fill=\"none\" points=\"68,-913.5 68,-959.5 388,-959.5 388,-913.5 68,-913.5\" stroke=\"#000000\"/>\n",
       "<text fill=\"#000000\" font-family=\"Times,serif\" font-size=\"14.00\" text-anchor=\"middle\" x=\"136.5\" y=\"-932.8\">Conv2D-1: Conv2D</text>\n",
       "<polyline fill=\"none\" points=\"205,-913.5 205,-959.5 \" stroke=\"#000000\"/>\n",
       "<text fill=\"#000000\" font-family=\"Times,serif\" font-size=\"14.00\" text-anchor=\"middle\" x=\"234\" y=\"-944.3\">input:</text>\n",
       "<polyline fill=\"none\" points=\"205,-936.5 263,-936.5 \" stroke=\"#000000\"/>\n",
       "<text fill=\"#000000\" font-family=\"Times,serif\" font-size=\"14.00\" text-anchor=\"middle\" x=\"234\" y=\"-921.3\">output:</text>\n",
       "<polyline fill=\"none\" points=\"263,-913.5 263,-959.5 \" stroke=\"#000000\"/>\n",
       "<text fill=\"#000000\" font-family=\"Times,serif\" font-size=\"14.00\" text-anchor=\"middle\" x=\"325.5\" y=\"-944.3\">(None, 28, 28, 1)</text>\n",
       "<polyline fill=\"none\" points=\"263,-936.5 388,-936.5 \" stroke=\"#000000\"/>\n",
       "<text fill=\"#000000\" font-family=\"Times,serif\" font-size=\"14.00\" text-anchor=\"middle\" x=\"325.5\" y=\"-921.3\">(None, 28, 28, 16)</text>\n",
       "</g>\n",
       "<!-- 140065779860872&#45;&gt;140065779862496 -->\n",
       "<g class=\"edge\" id=\"edge1\">\n",
       "<title>140065779860872-&gt;140065779862496</title>\n",
       "<path d=\"M228,-996.3799C228,-988.1745 228,-978.7679 228,-969.8786\" fill=\"none\" stroke=\"#000000\"/>\n",
       "<polygon fill=\"#000000\" points=\"231.5001,-969.784 228,-959.784 224.5001,-969.784 231.5001,-969.784\" stroke=\"#000000\"/>\n",
       "</g>\n",
       "<!-- 140065636314920 -->\n",
       "<g class=\"node\" id=\"node3\">\n",
       "<title>140065636314920</title>\n",
       "<polygon fill=\"none\" points=\"0,-830.5 0,-876.5 456,-876.5 456,-830.5 0,-830.5\" stroke=\"#000000\"/>\n",
       "<text fill=\"#000000\" font-family=\"Times,serif\" font-size=\"14.00\" text-anchor=\"middle\" x=\"136.5\" y=\"-849.8\">Batch_Normalization-1: BatchNormalization</text>\n",
       "<polyline fill=\"none\" points=\"273,-830.5 273,-876.5 \" stroke=\"#000000\"/>\n",
       "<text fill=\"#000000\" font-family=\"Times,serif\" font-size=\"14.00\" text-anchor=\"middle\" x=\"302\" y=\"-861.3\">input:</text>\n",
       "<polyline fill=\"none\" points=\"273,-853.5 331,-853.5 \" stroke=\"#000000\"/>\n",
       "<text fill=\"#000000\" font-family=\"Times,serif\" font-size=\"14.00\" text-anchor=\"middle\" x=\"302\" y=\"-838.3\">output:</text>\n",
       "<polyline fill=\"none\" points=\"331,-830.5 331,-876.5 \" stroke=\"#000000\"/>\n",
       "<text fill=\"#000000\" font-family=\"Times,serif\" font-size=\"14.00\" text-anchor=\"middle\" x=\"393.5\" y=\"-861.3\">(None, 28, 28, 16)</text>\n",
       "<polyline fill=\"none\" points=\"331,-853.5 456,-853.5 \" stroke=\"#000000\"/>\n",
       "<text fill=\"#000000\" font-family=\"Times,serif\" font-size=\"14.00\" text-anchor=\"middle\" x=\"393.5\" y=\"-838.3\">(None, 28, 28, 16)</text>\n",
       "</g>\n",
       "<!-- 140065779862496&#45;&gt;140065636314920 -->\n",
       "<g class=\"edge\" id=\"edge2\">\n",
       "<title>140065779862496-&gt;140065636314920</title>\n",
       "<path d=\"M228,-913.3799C228,-905.1745 228,-895.7679 228,-886.8786\" fill=\"none\" stroke=\"#000000\"/>\n",
       "<polygon fill=\"#000000\" points=\"231.5001,-886.784 228,-876.784 224.5001,-886.784 231.5001,-886.784\" stroke=\"#000000\"/>\n",
       "</g>\n",
       "<!-- 140065636312064 -->\n",
       "<g class=\"node\" id=\"node4\">\n",
       "<title>140065636312064</title>\n",
       "<polygon fill=\"none\" points=\"38,-747.5 38,-793.5 418,-793.5 418,-747.5 38,-747.5\" stroke=\"#000000\"/>\n",
       "<text fill=\"#000000\" font-family=\"Times,serif\" font-size=\"14.00\" text-anchor=\"middle\" x=\"136.5\" y=\"-766.8\">MaxPool2D-1: MaxPooling2D</text>\n",
       "<polyline fill=\"none\" points=\"235,-747.5 235,-793.5 \" stroke=\"#000000\"/>\n",
       "<text fill=\"#000000\" font-family=\"Times,serif\" font-size=\"14.00\" text-anchor=\"middle\" x=\"264\" y=\"-778.3\">input:</text>\n",
       "<polyline fill=\"none\" points=\"235,-770.5 293,-770.5 \" stroke=\"#000000\"/>\n",
       "<text fill=\"#000000\" font-family=\"Times,serif\" font-size=\"14.00\" text-anchor=\"middle\" x=\"264\" y=\"-755.3\">output:</text>\n",
       "<polyline fill=\"none\" points=\"293,-747.5 293,-793.5 \" stroke=\"#000000\"/>\n",
       "<text fill=\"#000000\" font-family=\"Times,serif\" font-size=\"14.00\" text-anchor=\"middle\" x=\"355.5\" y=\"-778.3\">(None, 28, 28, 16)</text>\n",
       "<polyline fill=\"none\" points=\"293,-770.5 418,-770.5 \" stroke=\"#000000\"/>\n",
       "<text fill=\"#000000\" font-family=\"Times,serif\" font-size=\"14.00\" text-anchor=\"middle\" x=\"355.5\" y=\"-755.3\">(None, 14, 14, 16)</text>\n",
       "</g>\n",
       "<!-- 140065636314920&#45;&gt;140065636312064 -->\n",
       "<g class=\"edge\" id=\"edge3\">\n",
       "<title>140065636314920-&gt;140065636312064</title>\n",
       "<path d=\"M228,-830.3799C228,-822.1745 228,-812.7679 228,-803.8786\" fill=\"none\" stroke=\"#000000\"/>\n",
       "<polygon fill=\"#000000\" points=\"231.5001,-803.784 228,-793.784 224.5001,-803.784 231.5001,-803.784\" stroke=\"#000000\"/>\n",
       "</g>\n",
       "<!-- 140065636353920 -->\n",
       "<g class=\"node\" id=\"node5\">\n",
       "<title>140065636353920</title>\n",
       "<polygon fill=\"none\" points=\"69.5,-664.5 69.5,-710.5 386.5,-710.5 386.5,-664.5 69.5,-664.5\" stroke=\"#000000\"/>\n",
       "<text fill=\"#000000\" font-family=\"Times,serif\" font-size=\"14.00\" text-anchor=\"middle\" x=\"136.5\" y=\"-683.8\">Dropout-1: Dropout</text>\n",
       "<polyline fill=\"none\" points=\"203.5,-664.5 203.5,-710.5 \" stroke=\"#000000\"/>\n",
       "<text fill=\"#000000\" font-family=\"Times,serif\" font-size=\"14.00\" text-anchor=\"middle\" x=\"232.5\" y=\"-695.3\">input:</text>\n",
       "<polyline fill=\"none\" points=\"203.5,-687.5 261.5,-687.5 \" stroke=\"#000000\"/>\n",
       "<text fill=\"#000000\" font-family=\"Times,serif\" font-size=\"14.00\" text-anchor=\"middle\" x=\"232.5\" y=\"-672.3\">output:</text>\n",
       "<polyline fill=\"none\" points=\"261.5,-664.5 261.5,-710.5 \" stroke=\"#000000\"/>\n",
       "<text fill=\"#000000\" font-family=\"Times,serif\" font-size=\"14.00\" text-anchor=\"middle\" x=\"324\" y=\"-695.3\">(None, 14, 14, 16)</text>\n",
       "<polyline fill=\"none\" points=\"261.5,-687.5 386.5,-687.5 \" stroke=\"#000000\"/>\n",
       "<text fill=\"#000000\" font-family=\"Times,serif\" font-size=\"14.00\" text-anchor=\"middle\" x=\"324\" y=\"-672.3\">(None, 14, 14, 16)</text>\n",
       "</g>\n",
       "<!-- 140065636312064&#45;&gt;140065636353920 -->\n",
       "<g class=\"edge\" id=\"edge4\">\n",
       "<title>140065636312064-&gt;140065636353920</title>\n",
       "<path d=\"M228,-747.3799C228,-739.1745 228,-729.7679 228,-720.8786\" fill=\"none\" stroke=\"#000000\"/>\n",
       "<polygon fill=\"#000000\" points=\"231.5001,-720.784 228,-710.784 224.5001,-720.784 231.5001,-720.784\" stroke=\"#000000\"/>\n",
       "</g>\n",
       "<!-- 140065636353528 -->\n",
       "<g class=\"node\" id=\"node6\">\n",
       "<title>140065636353528</title>\n",
       "<polygon fill=\"none\" points=\"68,-581.5 68,-627.5 388,-627.5 388,-581.5 68,-581.5\" stroke=\"#000000\"/>\n",
       "<text fill=\"#000000\" font-family=\"Times,serif\" font-size=\"14.00\" text-anchor=\"middle\" x=\"136.5\" y=\"-600.8\">Conv2D-2: Conv2D</text>\n",
       "<polyline fill=\"none\" points=\"205,-581.5 205,-627.5 \" stroke=\"#000000\"/>\n",
       "<text fill=\"#000000\" font-family=\"Times,serif\" font-size=\"14.00\" text-anchor=\"middle\" x=\"234\" y=\"-612.3\">input:</text>\n",
       "<polyline fill=\"none\" points=\"205,-604.5 263,-604.5 \" stroke=\"#000000\"/>\n",
       "<text fill=\"#000000\" font-family=\"Times,serif\" font-size=\"14.00\" text-anchor=\"middle\" x=\"234\" y=\"-589.3\">output:</text>\n",
       "<polyline fill=\"none\" points=\"263,-581.5 263,-627.5 \" stroke=\"#000000\"/>\n",
       "<text fill=\"#000000\" font-family=\"Times,serif\" font-size=\"14.00\" text-anchor=\"middle\" x=\"325.5\" y=\"-612.3\">(None, 14, 14, 16)</text>\n",
       "<polyline fill=\"none\" points=\"263,-604.5 388,-604.5 \" stroke=\"#000000\"/>\n",
       "<text fill=\"#000000\" font-family=\"Times,serif\" font-size=\"14.00\" text-anchor=\"middle\" x=\"325.5\" y=\"-589.3\">(None, 14, 14, 32)</text>\n",
       "</g>\n",
       "<!-- 140065636353920&#45;&gt;140065636353528 -->\n",
       "<g class=\"edge\" id=\"edge5\">\n",
       "<title>140065636353920-&gt;140065636353528</title>\n",
       "<path d=\"M228,-664.3799C228,-656.1745 228,-646.7679 228,-637.8786\" fill=\"none\" stroke=\"#000000\"/>\n",
       "<polygon fill=\"#000000\" points=\"231.5001,-637.784 228,-627.784 224.5001,-637.784 231.5001,-637.784\" stroke=\"#000000\"/>\n",
       "</g>\n",
       "<!-- 140065639982416 -->\n",
       "<g class=\"node\" id=\"node7\">\n",
       "<title>140065639982416</title>\n",
       "<polygon fill=\"none\" points=\"0,-498.5 0,-544.5 456,-544.5 456,-498.5 0,-498.5\" stroke=\"#000000\"/>\n",
       "<text fill=\"#000000\" font-family=\"Times,serif\" font-size=\"14.00\" text-anchor=\"middle\" x=\"136.5\" y=\"-517.8\">Batch_Normalization-2: BatchNormalization</text>\n",
       "<polyline fill=\"none\" points=\"273,-498.5 273,-544.5 \" stroke=\"#000000\"/>\n",
       "<text fill=\"#000000\" font-family=\"Times,serif\" font-size=\"14.00\" text-anchor=\"middle\" x=\"302\" y=\"-529.3\">input:</text>\n",
       "<polyline fill=\"none\" points=\"273,-521.5 331,-521.5 \" stroke=\"#000000\"/>\n",
       "<text fill=\"#000000\" font-family=\"Times,serif\" font-size=\"14.00\" text-anchor=\"middle\" x=\"302\" y=\"-506.3\">output:</text>\n",
       "<polyline fill=\"none\" points=\"331,-498.5 331,-544.5 \" stroke=\"#000000\"/>\n",
       "<text fill=\"#000000\" font-family=\"Times,serif\" font-size=\"14.00\" text-anchor=\"middle\" x=\"393.5\" y=\"-529.3\">(None, 14, 14, 32)</text>\n",
       "<polyline fill=\"none\" points=\"331,-521.5 456,-521.5 \" stroke=\"#000000\"/>\n",
       "<text fill=\"#000000\" font-family=\"Times,serif\" font-size=\"14.00\" text-anchor=\"middle\" x=\"393.5\" y=\"-506.3\">(None, 14, 14, 32)</text>\n",
       "</g>\n",
       "<!-- 140065636353528&#45;&gt;140065639982416 -->\n",
       "<g class=\"edge\" id=\"edge6\">\n",
       "<title>140065636353528-&gt;140065639982416</title>\n",
       "<path d=\"M228,-581.3799C228,-573.1745 228,-563.7679 228,-554.8786\" fill=\"none\" stroke=\"#000000\"/>\n",
       "<polygon fill=\"#000000\" points=\"231.5001,-554.784 228,-544.784 224.5001,-554.784 231.5001,-554.784\" stroke=\"#000000\"/>\n",
       "</g>\n",
       "<!-- 140065638578272 -->\n",
       "<g class=\"node\" id=\"node8\">\n",
       "<title>140065638578272</title>\n",
       "<polygon fill=\"none\" points=\"38,-415.5 38,-461.5 418,-461.5 418,-415.5 38,-415.5\" stroke=\"#000000\"/>\n",
       "<text fill=\"#000000\" font-family=\"Times,serif\" font-size=\"14.00\" text-anchor=\"middle\" x=\"136.5\" y=\"-434.8\">MaxPool2D-2: MaxPooling2D</text>\n",
       "<polyline fill=\"none\" points=\"235,-415.5 235,-461.5 \" stroke=\"#000000\"/>\n",
       "<text fill=\"#000000\" font-family=\"Times,serif\" font-size=\"14.00\" text-anchor=\"middle\" x=\"264\" y=\"-446.3\">input:</text>\n",
       "<polyline fill=\"none\" points=\"235,-438.5 293,-438.5 \" stroke=\"#000000\"/>\n",
       "<text fill=\"#000000\" font-family=\"Times,serif\" font-size=\"14.00\" text-anchor=\"middle\" x=\"264\" y=\"-423.3\">output:</text>\n",
       "<polyline fill=\"none\" points=\"293,-415.5 293,-461.5 \" stroke=\"#000000\"/>\n",
       "<text fill=\"#000000\" font-family=\"Times,serif\" font-size=\"14.00\" text-anchor=\"middle\" x=\"355.5\" y=\"-446.3\">(None, 14, 14, 32)</text>\n",
       "<polyline fill=\"none\" points=\"293,-438.5 418,-438.5 \" stroke=\"#000000\"/>\n",
       "<text fill=\"#000000\" font-family=\"Times,serif\" font-size=\"14.00\" text-anchor=\"middle\" x=\"355.5\" y=\"-423.3\">(None, 7, 7, 32)</text>\n",
       "</g>\n",
       "<!-- 140065639982416&#45;&gt;140065638578272 -->\n",
       "<g class=\"edge\" id=\"edge7\">\n",
       "<title>140065639982416-&gt;140065638578272</title>\n",
       "<path d=\"M228,-498.3799C228,-490.1745 228,-480.7679 228,-471.8786\" fill=\"none\" stroke=\"#000000\"/>\n",
       "<polygon fill=\"#000000\" points=\"231.5001,-471.784 228,-461.784 224.5001,-471.784 231.5001,-471.784\" stroke=\"#000000\"/>\n",
       "</g>\n",
       "<!-- 140065669793048 -->\n",
       "<g class=\"node\" id=\"node9\">\n",
       "<title>140065669793048</title>\n",
       "<polygon fill=\"none\" points=\"77,-332.5 77,-378.5 379,-378.5 379,-332.5 77,-332.5\" stroke=\"#000000\"/>\n",
       "<text fill=\"#000000\" font-family=\"Times,serif\" font-size=\"14.00\" text-anchor=\"middle\" x=\"144\" y=\"-351.8\">Dropout-2: Dropout</text>\n",
       "<polyline fill=\"none\" points=\"211,-332.5 211,-378.5 \" stroke=\"#000000\"/>\n",
       "<text fill=\"#000000\" font-family=\"Times,serif\" font-size=\"14.00\" text-anchor=\"middle\" x=\"240\" y=\"-363.3\">input:</text>\n",
       "<polyline fill=\"none\" points=\"211,-355.5 269,-355.5 \" stroke=\"#000000\"/>\n",
       "<text fill=\"#000000\" font-family=\"Times,serif\" font-size=\"14.00\" text-anchor=\"middle\" x=\"240\" y=\"-340.3\">output:</text>\n",
       "<polyline fill=\"none\" points=\"269,-332.5 269,-378.5 \" stroke=\"#000000\"/>\n",
       "<text fill=\"#000000\" font-family=\"Times,serif\" font-size=\"14.00\" text-anchor=\"middle\" x=\"324\" y=\"-363.3\">(None, 7, 7, 32)</text>\n",
       "<polyline fill=\"none\" points=\"269,-355.5 379,-355.5 \" stroke=\"#000000\"/>\n",
       "<text fill=\"#000000\" font-family=\"Times,serif\" font-size=\"14.00\" text-anchor=\"middle\" x=\"324\" y=\"-340.3\">(None, 7, 7, 32)</text>\n",
       "</g>\n",
       "<!-- 140065638578272&#45;&gt;140065669793048 -->\n",
       "<g class=\"edge\" id=\"edge8\">\n",
       "<title>140065638578272-&gt;140065669793048</title>\n",
       "<path d=\"M228,-415.3799C228,-407.1745 228,-397.7679 228,-388.8786\" fill=\"none\" stroke=\"#000000\"/>\n",
       "<polygon fill=\"#000000\" points=\"231.5001,-388.784 228,-378.784 224.5001,-388.784 231.5001,-388.784\" stroke=\"#000000\"/>\n",
       "</g>\n",
       "<!-- 140065669792600 -->\n",
       "<g class=\"node\" id=\"node10\">\n",
       "<title>140065669792600</title>\n",
       "<polygon fill=\"none\" points=\"93,-249.5 93,-295.5 363,-295.5 363,-249.5 93,-249.5\" stroke=\"#000000\"/>\n",
       "<text fill=\"#000000\" font-family=\"Times,serif\" font-size=\"14.00\" text-anchor=\"middle\" x=\"144\" y=\"-268.8\">Flatten: Flatten</text>\n",
       "<polyline fill=\"none\" points=\"195,-249.5 195,-295.5 \" stroke=\"#000000\"/>\n",
       "<text fill=\"#000000\" font-family=\"Times,serif\" font-size=\"14.00\" text-anchor=\"middle\" x=\"224\" y=\"-280.3\">input:</text>\n",
       "<polyline fill=\"none\" points=\"195,-272.5 253,-272.5 \" stroke=\"#000000\"/>\n",
       "<text fill=\"#000000\" font-family=\"Times,serif\" font-size=\"14.00\" text-anchor=\"middle\" x=\"224\" y=\"-257.3\">output:</text>\n",
       "<polyline fill=\"none\" points=\"253,-249.5 253,-295.5 \" stroke=\"#000000\"/>\n",
       "<text fill=\"#000000\" font-family=\"Times,serif\" font-size=\"14.00\" text-anchor=\"middle\" x=\"308\" y=\"-280.3\">(None, 7, 7, 32)</text>\n",
       "<polyline fill=\"none\" points=\"253,-272.5 363,-272.5 \" stroke=\"#000000\"/>\n",
       "<text fill=\"#000000\" font-family=\"Times,serif\" font-size=\"14.00\" text-anchor=\"middle\" x=\"308\" y=\"-257.3\">(None, 1568)</text>\n",
       "</g>\n",
       "<!-- 140065669793048&#45;&gt;140065669792600 -->\n",
       "<g class=\"edge\" id=\"edge9\">\n",
       "<title>140065669793048-&gt;140065669792600</title>\n",
       "<path d=\"M228,-332.3799C228,-324.1745 228,-314.7679 228,-305.8786\" fill=\"none\" stroke=\"#000000\"/>\n",
       "<polygon fill=\"#000000\" points=\"231.5001,-305.784 228,-295.784 224.5001,-305.784 231.5001,-305.784\" stroke=\"#000000\"/>\n",
       "</g>\n",
       "<!-- 140065698463360 -->\n",
       "<g class=\"node\" id=\"node11\">\n",
       "<title>140065698463360</title>\n",
       "<polygon fill=\"none\" points=\"94.5,-166.5 94.5,-212.5 361.5,-212.5 361.5,-166.5 94.5,-166.5\" stroke=\"#000000\"/>\n",
       "<text fill=\"#000000\" font-family=\"Times,serif\" font-size=\"14.00\" text-anchor=\"middle\" x=\"151.5\" y=\"-185.8\">Hidden-1: Dense</text>\n",
       "<polyline fill=\"none\" points=\"208.5,-166.5 208.5,-212.5 \" stroke=\"#000000\"/>\n",
       "<text fill=\"#000000\" font-family=\"Times,serif\" font-size=\"14.00\" text-anchor=\"middle\" x=\"237.5\" y=\"-197.3\">input:</text>\n",
       "<polyline fill=\"none\" points=\"208.5,-189.5 266.5,-189.5 \" stroke=\"#000000\"/>\n",
       "<text fill=\"#000000\" font-family=\"Times,serif\" font-size=\"14.00\" text-anchor=\"middle\" x=\"237.5\" y=\"-174.3\">output:</text>\n",
       "<polyline fill=\"none\" points=\"266.5,-166.5 266.5,-212.5 \" stroke=\"#000000\"/>\n",
       "<text fill=\"#000000\" font-family=\"Times,serif\" font-size=\"14.00\" text-anchor=\"middle\" x=\"314\" y=\"-197.3\">(None, 1568)</text>\n",
       "<polyline fill=\"none\" points=\"266.5,-189.5 361.5,-189.5 \" stroke=\"#000000\"/>\n",
       "<text fill=\"#000000\" font-family=\"Times,serif\" font-size=\"14.00\" text-anchor=\"middle\" x=\"314\" y=\"-174.3\">(None, 256)</text>\n",
       "</g>\n",
       "<!-- 140065669792600&#45;&gt;140065698463360 -->\n",
       "<g class=\"edge\" id=\"edge10\">\n",
       "<title>140065669792600-&gt;140065698463360</title>\n",
       "<path d=\"M228,-249.3799C228,-241.1745 228,-231.7679 228,-222.8786\" fill=\"none\" stroke=\"#000000\"/>\n",
       "<polygon fill=\"#000000\" points=\"231.5001,-222.784 228,-212.784 224.5001,-222.784 231.5001,-222.784\" stroke=\"#000000\"/>\n",
       "</g>\n",
       "<!-- 140065791274344 -->\n",
       "<g class=\"node\" id=\"node12\">\n",
       "<title>140065791274344</title>\n",
       "<polygon fill=\"none\" points=\"88.5,-83.5 88.5,-129.5 367.5,-129.5 367.5,-83.5 88.5,-83.5\" stroke=\"#000000\"/>\n",
       "<text fill=\"#000000\" font-family=\"Times,serif\" font-size=\"14.00\" text-anchor=\"middle\" x=\"155.5\" y=\"-102.8\">Dropout-3: Dropout</text>\n",
       "<polyline fill=\"none\" points=\"222.5,-83.5 222.5,-129.5 \" stroke=\"#000000\"/>\n",
       "<text fill=\"#000000\" font-family=\"Times,serif\" font-size=\"14.00\" text-anchor=\"middle\" x=\"251.5\" y=\"-114.3\">input:</text>\n",
       "<polyline fill=\"none\" points=\"222.5,-106.5 280.5,-106.5 \" stroke=\"#000000\"/>\n",
       "<text fill=\"#000000\" font-family=\"Times,serif\" font-size=\"14.00\" text-anchor=\"middle\" x=\"251.5\" y=\"-91.3\">output:</text>\n",
       "<polyline fill=\"none\" points=\"280.5,-83.5 280.5,-129.5 \" stroke=\"#000000\"/>\n",
       "<text fill=\"#000000\" font-family=\"Times,serif\" font-size=\"14.00\" text-anchor=\"middle\" x=\"324\" y=\"-114.3\">(None, 256)</text>\n",
       "<polyline fill=\"none\" points=\"280.5,-106.5 367.5,-106.5 \" stroke=\"#000000\"/>\n",
       "<text fill=\"#000000\" font-family=\"Times,serif\" font-size=\"14.00\" text-anchor=\"middle\" x=\"324\" y=\"-91.3\">(None, 256)</text>\n",
       "</g>\n",
       "<!-- 140065698463360&#45;&gt;140065791274344 -->\n",
       "<g class=\"edge\" id=\"edge11\">\n",
       "<title>140065698463360-&gt;140065791274344</title>\n",
       "<path d=\"M228,-166.3799C228,-158.1745 228,-148.7679 228,-139.8786\" fill=\"none\" stroke=\"#000000\"/>\n",
       "<polygon fill=\"#000000\" points=\"231.5001,-139.784 228,-129.784 224.5001,-139.784 231.5001,-139.784\" stroke=\"#000000\"/>\n",
       "</g>\n",
       "<!-- 140065698242400 -->\n",
       "<g class=\"node\" id=\"node13\">\n",
       "<title>140065698242400</title>\n",
       "<polygon fill=\"none\" points=\"105.5,-.5 105.5,-46.5 350.5,-46.5 350.5,-.5 105.5,-.5\" stroke=\"#000000\"/>\n",
       "<text fill=\"#000000\" font-family=\"Times,serif\" font-size=\"14.00\" text-anchor=\"middle\" x=\"155.5\" y=\"-19.8\">Output: Dense</text>\n",
       "<polyline fill=\"none\" points=\"205.5,-.5 205.5,-46.5 \" stroke=\"#000000\"/>\n",
       "<text fill=\"#000000\" font-family=\"Times,serif\" font-size=\"14.00\" text-anchor=\"middle\" x=\"234.5\" y=\"-31.3\">input:</text>\n",
       "<polyline fill=\"none\" points=\"205.5,-23.5 263.5,-23.5 \" stroke=\"#000000\"/>\n",
       "<text fill=\"#000000\" font-family=\"Times,serif\" font-size=\"14.00\" text-anchor=\"middle\" x=\"234.5\" y=\"-8.3\">output:</text>\n",
       "<polyline fill=\"none\" points=\"263.5,-.5 263.5,-46.5 \" stroke=\"#000000\"/>\n",
       "<text fill=\"#000000\" font-family=\"Times,serif\" font-size=\"14.00\" text-anchor=\"middle\" x=\"307\" y=\"-31.3\">(None, 256)</text>\n",
       "<polyline fill=\"none\" points=\"263.5,-23.5 350.5,-23.5 \" stroke=\"#000000\"/>\n",
       "<text fill=\"#000000\" font-family=\"Times,serif\" font-size=\"14.00\" text-anchor=\"middle\" x=\"307\" y=\"-8.3\">(None, 10)</text>\n",
       "</g>\n",
       "<!-- 140065791274344&#45;&gt;140065698242400 -->\n",
       "<g class=\"edge\" id=\"edge12\">\n",
       "<title>140065791274344-&gt;140065698242400</title>\n",
       "<path d=\"M228,-83.3799C228,-75.1745 228,-65.7679 228,-56.8786\" fill=\"none\" stroke=\"#000000\"/>\n",
       "<polygon fill=\"#000000\" points=\"231.5001,-56.784 228,-46.784 224.5001,-56.784 231.5001,-56.784\" stroke=\"#000000\"/>\n",
       "</g>\n",
       "</g>\n",
       "</svg>"
      ],
      "text/plain": [
       "<IPython.core.display.SVG object>"
      ]
     },
     "execution_count": 104,
     "metadata": {
      "tags": []
     },
     "output_type": "execute_result"
    }
   ],
   "source": [
    "SVG(model_to_dot(model, show_shapes=True).create(prog='dot', format='svg'))"
   ]
  },
  {
   "cell_type": "code",
   "execution_count": 105,
   "metadata": {
    "colab": {
     "base_uri": "https://localhost:8080/",
     "height": 34
    },
    "colab_type": "code",
    "id": "35paboT5TvBn",
    "outputId": "fb568b2c-7e4d-4080-9b12-8e38226cb8b1"
   },
   "outputs": [
    {
     "name": "stdout",
     "output_type": "stream",
     "text": [
      "Number of misclassified: 742\n"
     ]
    }
   ],
   "source": [
    "predicted_labels = np.apply_along_axis(np.argmax, 1, predictions)\n",
    "#print('Predicted labels:', predicted_labels)\n",
    "misclassified = y_test != predicted_labels\n",
    "#print('Misclassified:', misclassified)\n",
    "misclassified_indices = np.argwhere(misclassified)\n",
    "#print('Misclassified indices:\\n', misclassified_indices)\n",
    "print('Number of misclassified:', len(misclassified_indices))"
   ]
  },
  {
   "cell_type": "markdown",
   "metadata": {},
   "source": [
    "### Model's performance\n",
    "\n",
    "- This relatively small and easy to be trained CNN model achieved 92.58% accuracy and 25.53% loss on test set (742 out of 10000 images was misclassified). Furthermore, 417,650 parameters was trained in 28 epochs, where the model retains its generalization power."
   ]
  },
  {
   "cell_type": "markdown",
   "metadata": {
    "colab_type": "text",
    "id": "wTvKrTiQ6L6C"
   },
   "source": [
    "### Misclassified images"
   ]
  },
  {
   "cell_type": "code",
   "execution_count": 0,
   "metadata": {
    "colab": {},
    "colab_type": "code",
    "id": "UR9jtA-jJ1VI"
   },
   "outputs": [],
   "source": [
    "def plot_image(i, predictions, true_labels, img):\n",
    "    predictions_array, true_label, img = predictions[i], true_labels[i], img[i]\n",
    "    plt.grid(False)\n",
    "    plt.xticks([])\n",
    "    plt.yticks([])\n",
    "    \n",
    "    plt.imshow(img.reshape(28,28), cmap=plt.cm.binary)\n",
    "    \n",
    "    predicted_label = np.argmax(predictions_array)\n",
    "    \n",
    "    if predicted_label == true_label:\n",
    "        color = 'blue'\n",
    "    else:\n",
    "        color = 'red'\n",
    "  \n",
    "    plt.xlabel(\"{} {:2.0f}% ({})\".format(class_names[predicted_label],\n",
    "                                         100*np.max(predictions_array),\n",
    "                                         class_names[true_label]),\n",
    "                                         color=color)\n",
    "    \n",
    "def plot_value_array(i, predictions, true_labels, show_xticks=False):\n",
    "    predictions_array, true_label = predictions[i], true_labels[i]\n",
    "    plt.grid(False)\n",
    "    plt.xticks([])\n",
    "    if show_xticks:\n",
    "        plt.xticks(range(10), class_names, rotation='vertical')\n",
    "    else:\n",
    "        plt.xticks([])\n",
    "    plt.yticks([])\n",
    "    thisplot = plt.bar(range(10), predictions_array, color=\"#777777\")\n",
    "    plt.ylim([0, 1]) \n",
    "    predicted_label = np.argmax(predictions_array)\n",
    " \n",
    "    thisplot[predicted_label].set_color('red')\n",
    "    thisplot[true_label].set_color('green')"
   ]
  },
  {
   "cell_type": "code",
   "execution_count": 107,
   "metadata": {
    "colab": {
     "base_uri": "https://localhost:8080/",
     "height": 578
    },
    "colab_type": "code",
    "id": "3R3vpqH2U_nM",
    "outputId": "d0d4d01a-e048-4a39-a8a5-b96606597f71"
   },
   "outputs": [
    {
     "data": {
      "image/png": "[encoded data removed]",
      "text/plain": [
       "<Figure size 1152x576 with 32 Axes>"
      ]
     },
     "metadata": {
      "tags": []
     },
     "output_type": "display_data"
    }
   ],
   "source": [
    "class_names = ['T-shirt/top', 'Trouser', 'Pullover', 'Dress', 'Coat', \n",
    "               'Sandal', 'Shirt', 'Sneaker', 'Bag', 'Ankle boot']\n",
    "\n",
    "num_rows = 4\n",
    "num_cols = 4\n",
    "num_images = num_rows * num_cols\n",
    "\n",
    "plt.figure(figsize=(2*2*num_cols, 2*num_rows))\n",
    "show_x_ticks = False\n",
    "plt.title('Some misclassified images')\n",
    "\n",
    "for i in range(num_images):\n",
    "    if i >= num_images - num_cols:\n",
    "        show_x_ticks = True\n",
    "    plt.subplot(num_rows, 2*num_cols, 2*i+1)\n",
    "    plot_image(misclassified_indices[i-1][0], predictions, y_test, X_test)\n",
    "    plt.subplot(num_rows, 2 * num_cols, 2*i+2)\n",
    "    plot_value_array(misclassified_indices[i-1][0], predictions, y_test, show_x_ticks)\n",
    "\n",
    "plt.suptitle('Some misclassified images')\n",
    "plt.show;"
   ]
  },
  {
   "cell_type": "markdown",
   "metadata": {},
   "source": [
    "- As it can been seen from the above plots, even a human eye cannot easily discriminate the proper class for each of those images. Thus, this model is performing quite well at fashion recognition."
   ]
  },
  {
   "cell_type": "code",
   "execution_count": 108,
   "metadata": {
    "colab": {
     "base_uri": "https://localhost:8080/",
     "height": 476
    },
    "colab_type": "code",
    "id": "L_JNg1k8WCxB",
    "outputId": "cd175d41-8c38-4ee2-ca2c-61b36f28ba01"
   },
   "outputs": [
    {
     "name": "stdout",
     "output_type": "stream",
     "text": [
      "[[850   0  19  15   2   1 106   0   7   0]\n",
      " [  1 990   0   7   1   0   0   0   1   0]\n",
      " [ 15   1 885   6  45   0  48   0   0   0]\n",
      " [ 11   4  10 932  22   0  20   0   1   0]\n",
      " [  0   1  44  16 889   0  50   0   0   0]\n",
      " [  0   0   0   0   0 983   0  10   0   7]\n",
      " [ 75   2  50  26  46   0 799   0   2   0]\n",
      " [  0   0   0   0   0   5   0 979   0  16]\n",
      " [  3   2   0   5   3   0   1   3 981   2]\n",
      " [  0   0   0   0   0   3   1  26   0 970]]\n",
      "              precision    recall  f1-score   support\n",
      "\n",
      " T-shirt/top       0.89      0.85      0.87      1000\n",
      "     Trouser       0.99      0.99      0.99      1000\n",
      "    Pullover       0.88      0.89      0.88      1000\n",
      "       Dress       0.93      0.93      0.93      1000\n",
      "        Coat       0.88      0.89      0.89      1000\n",
      "      Sandal       0.99      0.98      0.99      1000\n",
      "       Shirt       0.78      0.80      0.79      1000\n",
      "     Sneaker       0.96      0.98      0.97      1000\n",
      "         Bag       0.99      0.98      0.98      1000\n",
      "  Ankle boot       0.97      0.97      0.97      1000\n",
      "\n",
      "   micro avg       0.93      0.93      0.93     10000\n",
      "   macro avg       0.93      0.93      0.93     10000\n",
      "weighted avg       0.93      0.93      0.93     10000\n",
      "\n"
     ]
    }
   ],
   "source": [
    "print(confusion_matrix(y_test,predicted_labels))\n",
    "print(classification_report(y_test,predicted_labels,target_names=class_names))"
   ]
  },
  {
   "cell_type": "markdown",
   "metadata": {
    "colab": {},
    "colab_type": "code",
    "id": "0jQIqKsUY29O"
   },
   "source": [
    "- Finally, the confusion matrix shows that the model classified 'trouser', 'sandal','sneaker', 'bag' and 'ankle boot' classes over 97% correctly but seemed to struggle quite a bit with 'shirt' class (79% accurate), which was regularly confused with 't-shirt/top', 'pullover' and 'coat' classes."
   ]
  }
 ],
 "metadata": {
  "accelerator": "GPU",
  "colab": {
   "collapsed_sections": [],
   "name": "deep_learning_assign.ipynb",
   "provenance": [],
   "version": "0.3.2"
  },
  "kernelspec": {
   "display_name": "Python 3",
   "language": "python",
   "name": "python3"
  },
  "language_info": {
   "codemirror_mode": {
    "name": "ipython",
    "version": 3
   },
   "file_extension": ".py",
   "mimetype": "text/x-python",
   "name": "python",
   "nbconvert_exporter": "python",
   "pygments_lexer": "ipython3",
   "version": "3.6.8"
  }
 },
 "nbformat": 4,
 "nbformat_minor": 1
}
